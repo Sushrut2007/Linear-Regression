{
 "cells": [
  {
   "cell_type": "markdown",
   "id": "3a01bca4-31d4-4bfb-a773-889cc0b6b649",
   "metadata": {},
   "source": [
    "# 🎓 Project: Predicting Student Exam Scores using Multi-Linear Regression\n",
    "\n",
    "## 🧠 Goal:\n",
    "Use a multi-linear regression model to predict students' final grades (`G3`) based on study-related features like:\n",
    "- Study time\n",
    "- Past grades (G1, G2)\n",
    "- Number of failures\n",
    "- Absences\n",
    "\n",
    "---\n",
    "\n",
    "## 📦 Dataset: Student Performance Dataset\n",
    "\n",
    "- Source: UCI ML Repository  \n",
    "  → https://archive.ics.uci.edu/ml/datasets/Student+Performance  \n",
    "- File to use: `student-mat.csv` (Math scores)  \n",
    "- Target variable: `G3` (final grade)  \n",
    "- Features to consider: `G1`, `G2`, `studytime`, `failures`, `absences`\n",
    "\n",
    "---\n",
    "\n",
    "# 🔹 Step 1: Load the Dataset\n",
    "- Load the CSV file into a dataframe.\n",
    "- Preview first few rows.\n",
    "- Check shape, column names, and data types.\n",
    "\n",
    "---\n",
    "\n",
    "# 🔹 Step 2: Understand the Features\n",
    "- Print summary statistics.\n",
    "- Identify numeric features.\n",
    "- Decide which columns to use as independent variables (X).\n",
    "- Define the dependent variable (`G3`) as your target (y).\n",
    "\n",
    "---\n",
    "\n",
    "# 🔹 Step 3: Clean the Data\n",
    "- Drop irrelevant columns if any (like school name, address).\n",
    "- Focus on numeric columns only.\n",
    "- Check for missing values or outliers.\n",
    "\n",
    "---\n",
    "\n",
    "# 🔹 Step 4: Exploratory Data Analysis (EDA)\n",
    "- Plot distributions of numeric features (histograms, boxplots).\n",
    "- Create correlation heatmap.\n",
    "- Scatterplots of each feature vs `G3` to observe trends.\n",
    "\n",
    "---\n",
    "\n",
    "# 🔹 Step 5: Prepare the Data\n",
    "- Create feature matrix `X` and target vector `y`.\n",
    "- Split the dataset into training and test sets (e.g., 80/20).\n",
    "- (Optional) Scale features if needed.\n",
    "\n",
    "---\n",
    "\n",
    "# 🔹 Step 6: Train the Model\n",
    "- Use Linear Regression from a library like scikit-learn.\n",
    "- Fit the model on training data.\n",
    "\n",
    "---\n",
    "\n",
    "# 🔹 Step 7: Evaluate the Model\n",
    "- Predict on test data.\n",
    "- Evaluate using:\n",
    "  - Mean Absolute Error (MAE)\n",
    "  - Mean Squared Error (MSE)\n",
    "  - R² Score\n",
    "- Comment on model accuracy.\n",
    "\n",
    "---\n",
    "\n",
    "# 🔹 Step 8: Visualize Results\n",
    "- Plot Actual vs Predicted values.\n",
    "- Plot residuals (errors).\n",
    "- Highlight any obvious overfitting or underfitting patterns.\n",
    "\n",
    "---\n",
    "\n",
    "# 🔹 Step 9: Conclusion\n",
    "- Summarize how well the model performed.\n",
    "- Which features were most influential?\n",
    "- Any next steps or improvements you would make?\n",
    "\n",
    "---\n",
    "\n",
    "# 🚀 Bonus Ideas (Optional)\n",
    "- Add categorical features by encoding (like `school`, `sex`, `study support`).\n",
    "- Try using only early grades (`G1`, `G2`) vs. using all features.\n",
    "- Use the second dataset (`student-por.csv`) and compare results.\n"
   ]
  },
  {
   "cell_type": "markdown",
   "id": "431d84e8-86fb-4101-a54e-f87d28242c36",
   "metadata": {},
   "source": [
    "-------"
   ]
  },
  {
   "cell_type": "code",
   "execution_count": null,
   "id": "5e2f3fbd-b7ce-4cd1-b353-3f2d64b40de4",
   "metadata": {},
   "outputs": [],
   "source": []
  },
  {
   "cell_type": "code",
   "execution_count": null,
   "id": "9ddc2a44-cbd3-4a36-883a-de1f0ab46386",
   "metadata": {},
   "outputs": [],
   "source": [
    "import numpy as np\n",
    "import pandas as pd\n",
    "import matplotlib.pyplot as plt\n",
    "import seaborn as sns"
   ]
  },
  {
   "cell_type": "markdown",
   "id": "9b02a89d-ab62-448d-9119-fce180668c34",
   "metadata": {},
   "source": [
    "#### Step 1: Load the Dataset"
   ]
  },
  {
   "cell_type": "code",
   "execution_count": null,
   "id": "90fbab98-6d46-4aef-b87b-fa9c97d9c55b",
   "metadata": {},
   "outputs": [],
   "source": [
    "df = pd.read_csv('data/student-mat.csv', sep = ';')"
   ]
  },
  {
   "cell_type": "code",
   "execution_count": null,
   "id": "f031802d-7b15-4575-bec8-be9df976e419",
   "metadata": {},
   "outputs": [],
   "source": [
    "df.head()"
   ]
  },
  {
   "cell_type": "code",
   "execution_count": null,
   "id": "ede7e362-314d-44a1-bbd4-005408288c23",
   "metadata": {},
   "outputs": [],
   "source": [
    "df.shape"
   ]
  },
  {
   "cell_type": "code",
   "execution_count": null,
   "id": "624117b4-a883-4bee-ba6a-cf300e63cbc8",
   "metadata": {},
   "outputs": [],
   "source": [
    "df.info()"
   ]
  },
  {
   "cell_type": "markdown",
   "id": "e4424a55-92f9-466c-bb87-99e6118bb0aa",
   "metadata": {},
   "source": [
    "----\n",
    "#### Step 2: Understand the Features"
   ]
  },
  {
   "cell_type": "code",
   "execution_count": null,
   "id": "281e5a54-be0a-4a46-8c25-af033c539c49",
   "metadata": {},
   "outputs": [],
   "source": [
    "df.describe()"
   ]
  },
  {
   "cell_type": "markdown",
   "id": "432df39a-752c-4356-b1f5-a00c0473601b",
   "metadata": {},
   "source": [
    "- For Linear Regression, we only want to consider numeric attributes as independent variables (X)\n",
    "- For y, we will consider G3"
   ]
  },
  {
   "cell_type": "markdown",
   "id": "0874b443-9dee-4217-bd86-07613b712490",
   "metadata": {},
   "source": [
    "----\n",
    "#### Step 3: Clean the Data"
   ]
  },
  {
   "cell_type": "code",
   "execution_count": null,
   "id": "9cb35e3f-999a-4d75-b8d6-7d0efcb665f0",
   "metadata": {},
   "outputs": [],
   "source": [
    "df.head()"
   ]
  },
  {
   "cell_type": "code",
   "execution_count": null,
   "id": "0169560b-40db-41e8-84f7-c89f13467f86",
   "metadata": {},
   "outputs": [],
   "source": [
    "# dropping up irrelevent columns (we will create another df with only essential columns, as to save our efforts)\n",
    "num_df = df[['age', 'Medu', 'Fedu', 'traveltime', 'studytime', 'failures', 'famrel', 'freetime', 'goout', 'Dalc', 'health', 'absences', 'G1', 'G2', 'G3']]\n"
   ]
  },
  {
   "cell_type": "code",
   "execution_count": null,
   "id": "717715b4-3394-4fa4-b3cb-64c2f88f8d00",
   "metadata": {},
   "outputs": [],
   "source": [
    "num_df.head()"
   ]
  },
  {
   "cell_type": "code",
   "execution_count": null,
   "id": "cdc855a1-a2ba-4057-92e9-f1ffbf20553b",
   "metadata": {},
   "outputs": [],
   "source": [
    "num_df.isnull().count() # no missing value, all cleaned up!"
   ]
  },
  {
   "cell_type": "code",
   "execution_count": null,
   "id": "f0f664d5-d0cd-487d-917e-edf05d281640",
   "metadata": {},
   "outputs": [],
   "source": [
    "# slight insights (age 20 gets the best mean of G3 )\n",
    "num_df.groupby('age').mean(numeric_only = True)"
   ]
  },
  {
   "cell_type": "markdown",
   "id": "3071623e-cd38-42b9-bc9e-ad5b35ff6266",
   "metadata": {},
   "source": [
    "---\n",
    "####  Step 4: Exploratory Data Analysis (EDA)"
   ]
  },
  {
   "cell_type": "code",
   "execution_count": null,
   "id": "eb4f6cad-1d40-4af6-839c-653d49605bf3",
   "metadata": {},
   "outputs": [],
   "source": [
    "sns.displot(data = num_df, x = 'age', kde = True)\n",
    "plt.title('Age Distribution')"
   ]
  },
  {
   "cell_type": "code",
   "execution_count": null,
   "id": "dd90f4c1-c8e1-4a03-92ac-7945213523ea",
   "metadata": {},
   "outputs": [],
   "source": [
    "sns.scatterplot(data = num_df, x = 'G1', y = 'G3')\n",
    "plt.title('G1 VS G3')"
   ]
  },
  {
   "cell_type": "code",
   "execution_count": null,
   "id": "c6a8c603-9953-4bfa-9910-100d4f5d8520",
   "metadata": {},
   "outputs": [],
   "source": [
    "fig, axes = plt.subplots(2, 2, figsize=(13, 6)) # 2 row, 2 columns\n",
    "\n",
    "sns.boxplot(data = num_df, x = 'health', y = 'G3', ax = axes[0][0])\n",
    "sns.boxplot(data = num_df, x = 'freetime', y = 'G3', ax = axes[0][1])\n",
    "sns.boxplot(data = num_df, x = 'Dalc', y = 'G3', ax = axes[1][0])\n",
    "sns.boxplot(data = num_df, x = 'goout', y = 'G3', ax = axes[1][1])\n",
    "\n",
    "fig.subplots_adjust(wspace = 0.3, hspace = 0.3)"
   ]
  },
  {
   "cell_type": "markdown",
   "id": "bc0bb2c2-991e-42f8-b990-02b1189ad55d",
   "metadata": {},
   "source": [
    "-----\n",
    "####  Step 5: Prepare the Data"
   ]
  },
  {
   "cell_type": "code",
   "execution_count": null,
   "id": "db5892a0-8e4f-42af-aae1-230ef1e54ec9",
   "metadata": {},
   "outputs": [],
   "source": [
    "# seperate out features and the label\n",
    "X = num_df.drop('G3', axis=1)\n",
    "y = num_df['G3']"
   ]
  },
  {
   "cell_type": "code",
   "execution_count": null,
   "id": "5acfe1d8-3436-4f1b-9526-63dff2502b00",
   "metadata": {},
   "outputs": [],
   "source": [
    "from sklearn.model_selection import train_test_split"
   ]
  },
  {
   "cell_type": "code",
   "execution_count": null,
   "id": "760347a7-c11a-4adb-8c22-0f1c264ea53a",
   "metadata": {},
   "outputs": [],
   "source": [
    "# creating a train test split (80 - 20)\n",
    "X_train, X_test, y_train, y_test = train_test_split(X, y, test_size = 0.2, random_state = 42)"
   ]
  },
  {
   "cell_type": "code",
   "execution_count": null,
   "id": "454eb0ce-d9a1-40e0-8a60-d1844f885cc9",
   "metadata": {},
   "outputs": [],
   "source": [
    "X_train.head()"
   ]
  },
  {
   "cell_type": "code",
   "execution_count": null,
   "id": "6f4fceb8-82cb-40d3-8d69-616114212d8c",
   "metadata": {},
   "outputs": [],
   "source": [
    "y_train.head() # ensure proper index "
   ]
  },
  {
   "cell_type": "markdown",
   "id": "97e64fa4-f46c-4a8a-8679-0b724e11e49d",
   "metadata": {},
   "source": [
    "----\n",
    "#### Step 6: Train the Model"
   ]
  },
  {
   "cell_type": "code",
   "execution_count": null,
   "id": "67cf0709-c14b-4896-bab4-448f2d17e64c",
   "metadata": {},
   "outputs": [],
   "source": [
    "from sklearn.linear_model import LinearRegression"
   ]
  },
  {
   "cell_type": "code",
   "execution_count": null,
   "id": "99345fd4-c42f-4acb-93a9-8464c108464f",
   "metadata": {},
   "outputs": [],
   "source": [
    "model = LinearRegression()\n",
    "model"
   ]
  },
  {
   "cell_type": "code",
   "execution_count": null,
   "id": "77120cd9-d956-4f57-a9c4-4e5c4228b3b6",
   "metadata": {},
   "outputs": [],
   "source": [
    "# fit the traing set into the model\n",
    "model.fit(X_train, y_train)"
   ]
  },
  {
   "cell_type": "markdown",
   "id": "004de2e0-2859-498a-85e9-3eb36c3239b1",
   "metadata": {},
   "source": [
    "----\n",
    "#### Step 7: Evaluate the Model"
   ]
  },
  {
   "cell_type": "code",
   "execution_count": null,
   "id": "7ae6040b-a1d1-4375-b2b6-f77c5ff25b9e",
   "metadata": {},
   "outputs": [],
   "source": [
    "# Actual prediciton of unseen data (testing our model)\n",
    "predictions = model.predict(X_test)\n",
    "predictions"
   ]
  },
  {
   "cell_type": "code",
   "execution_count": null,
   "id": "d244c4bb-ef84-4594-a95b-b5cc8af6e777",
   "metadata": {},
   "outputs": [],
   "source": [
    "y_test # above first array G3 corresponds to following one : "
   ]
  },
  {
   "cell_type": "markdown",
   "id": "b6aa8215-570e-425e-a606-9cd832aae171",
   "metadata": {},
   "source": [
    "- Let's check out how accurate is our model in average!"
   ]
  },
  {
   "cell_type": "code",
   "execution_count": null,
   "id": "44dedce4-393e-4420-a801-6083f6aee85b",
   "metadata": {},
   "outputs": [],
   "source": [
    "from sklearn.metrics import mean_absolute_error, mean_squared_error"
   ]
  },
  {
   "cell_type": "code",
   "execution_count": null,
   "id": "129065db-6157-43c9-9ca6-cfe2ce4094e0",
   "metadata": {},
   "outputs": [],
   "source": [
    "# mean absolute error\n",
    "mean_absolute_error(y_test, predictions)\n",
    "# so in average our MAE is off by 1.3 (That's not bad at all!)"
   ]
  },
  {
   "cell_type": "code",
   "execution_count": null,
   "id": "afefa246-5261-465a-a8ee-001d06079ad0",
   "metadata": {},
   "outputs": [],
   "source": [
    "# root mean squared error\n",
    "np.sqrt(mean_squared_error(y_test, predictions))"
   ]
  },
  {
   "cell_type": "markdown",
   "id": "81bbd2dd-d50c-4032-bdd4-fefdcc83064a",
   "metadata": {},
   "source": [
    "---\n",
    "#### Step 8: Visualize Results"
   ]
  },
  {
   "cell_type": "code",
   "execution_count": null,
   "id": "977a6c8b-7e0b-4c13-a5dd-8bcc0d96bb80",
   "metadata": {},
   "outputs": [],
   "source": [
    "# Actual Grades Vs predicted Grades\n",
    "sns.scatterplot(x = y_test, y = predictions)\n",
    "plt.title('Actual Grades Vs predicted Grades')\n",
    "plt.ylabel('Predicted Grades')"
   ]
  },
  {
   "cell_type": "code",
   "execution_count": null,
   "id": "cfc471fb-0dbc-46fc-a0e8-2a3f579960fd",
   "metadata": {},
   "outputs": [],
   "source": [
    "# plotting the residuals (error)\n",
    "test_residuals = y_test - predictions\n",
    "sns.scatterplot(x = y_test, y = test_residuals)\n",
    "plt.axhline(y = 0, ls = '--', color = 'red')"
   ]
  },
  {
   "cell_type": "code",
   "execution_count": null,
   "id": "3e7cf41c-0758-4e01-b879-f1f90afe13dc",
   "metadata": {},
   "outputs": [],
   "source": [
    "sns.displot(test_residuals, bins = 25, kde = True)"
   ]
  },
  {
   "cell_type": "markdown",
   "id": "44fc4c12-0bae-414d-9f26-062f35fa2e1b",
   "metadata": {},
   "source": [
    "## 📌 Basic Conclusion from Residual Plot\n",
    "\n",
    "- The residuals are mostly centered around **0**, which indicates that the model is not biased toward over- or under-predicting.\n",
    "- Most prediction errors fall within a small range (e.g., ±2), suggesting that the model is **reasonably accurate** for the majority of students.\n",
    "- The distribution is roughly bell-shaped, showing a **normal-like error pattern**, which is expected in a well-performing linear regression model.\n",
    "- There are **no extreme outliers or skew**, meaning the model does not make large, frequent mistakes.\n",
    "\n",
    "✅ **Conclusion**: The model performs well overall, with small, balanced errors — it can be trusted for general grade prediction within a ~2-point margin.\n"
   ]
  }
 ],
 "metadata": {
  "kernelspec": {
   "display_name": "Python 3 (ipykernel)",
   "language": "python",
   "name": "python3"
  },
  "language_info": {
   "codemirror_mode": {
    "name": "ipython",
    "version": 3
   },
   "file_extension": ".py",
   "mimetype": "text/x-python",
   "name": "python",
   "nbconvert_exporter": "python",
   "pygments_lexer": "ipython3",
   "version": "3.12.3"
  },
  "widgets": {
   "application/vnd.jupyter.widget-state+json": {
    "state": {},
    "version_major": 2,
    "version_minor": 0
   }
  }
 },
 "nbformat": 4,
 "nbformat_minor": 5
}
