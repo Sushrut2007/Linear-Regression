{
 "cells": [
  {
   "cell_type": "markdown",
   "id": "020ff51b-4e0c-4aa3-94d4-b90c0d278af6",
   "metadata": {},
   "source": [
    "### 🎯 Goal:\n",
    "- Let the program accept a few input-output examples (like Celsius & Fahrenheit), and automatically generate the best-fit formula of the form:\n"
   ]
  },
  {
   "cell_type": "code",
   "execution_count": 1,
   "id": "ee643ea7-844c-40c5-afa1-33998d2bb0e8",
   "metadata": {},
   "outputs": [],
   "source": [
    "import numpy as np\n",
    "import seaborn as sns\n",
    "import matplotlib.pyplot as plt\n",
    "from sklearn.linear_model import LinearRegression"
   ]
  },
  {
   "cell_type": "markdown",
   "id": "d290225e-37ff-4cff-abb8-5989936da70d",
   "metadata": {},
   "source": [
    "### ✅ STEP 2: Prepare the Data for Modeling\n",
    "- Essential for training on a clean dataset"
   ]
  },
  {
   "cell_type": "code",
   "execution_count": 2,
   "id": "e4262b79-0b8c-43f0-a61d-292a67920f41",
   "metadata": {},
   "outputs": [],
   "source": [
    "def prepare_data(c, f):\n",
    "    c_array = np.array(c).reshape(-1, 1)\n",
    "    f_array = np.array(f).ravel()\n",
    "\n",
    "    return c_array, f_array"
   ]
  },
  {
   "cell_type": "markdown",
   "id": "353ce2f4-9a16-436f-b321-25a504759592",
   "metadata": {},
   "source": [
    "### ✅ STEP 3: Train a Linear Model\n",
    "- Apply a linear regression technique to find the best line that fits your data.\n",
    "- Create the final formula "
   ]
  },
  {
   "cell_type": "code",
   "execution_count": 3,
   "id": "9fbe4abd-355c-4cbd-8fd4-839b8a1b944d",
   "metadata": {},
   "outputs": [],
   "source": [
    "def apply_line_fit(c_array, f_array):\n",
    "    global model\n",
    "    model = LinearRegression()\n",
    "\n",
    "    # train the data, this will find the beta 0 and beta 1 coefficients, that minimizes the cost function\n",
    "    model.fit(c_array, f_array)\n",
    "\n",
    "    # return the intercpet  (when c = 0, how much is f) and the slop (how much average f changes when c = c + 1)\n",
    "    b1 = model.coef_[0]\n",
    "    b0 = model.intercept_ \n",
    "    \n",
    "    return b1, b0"
   ]
  },
  {
   "cell_type": "markdown",
   "id": "e64904a8-1539-4af7-9bd0-f15f3fc913c5",
   "metadata": {},
   "source": [
    "### ✅ STEP 4: Generate and Display the Formula\n",
    "- Create the final formula based on b0 and b1"
   ]
  },
  {
   "cell_type": "code",
   "execution_count": 4,
   "id": "1270b670-d24f-4663-9b10-744f03263330",
   "metadata": {},
   "outputs": [],
   "source": [
    "def generate_formula(b0, b1):\n",
    "    formula = f'{b0} + Celcius * {b1}'\n",
    "    return formula "
   ]
  },
  {
   "cell_type": "markdown",
   "id": "a9ff5e65-102b-45f1-a2b7-159276c5f3d7",
   "metadata": {},
   "source": [
    "### STEP 5:  Make Predictions"
   ]
  },
  {
   "cell_type": "code",
   "execution_count": 5,
   "id": "e528167d-6e0b-46b6-b83d-8985ee484e8e",
   "metadata": {},
   "outputs": [],
   "source": [
    "def make_prediction(c):\n",
    "    c_input = np.array([[c]])\n",
    "    predicted_f = model.predict(c_input)\n",
    "\n",
    "    return predicted_f.item()"
   ]
  },
  {
   "cell_type": "markdown",
   "id": "43d2430f-0c39-4ca0-bf5d-85f9ff99a4ad",
   "metadata": {},
   "source": [
    "### ✅ STEP 1: Collect Input-Output Pairs\n",
    "- User is the manipulator here, on user input, the formula will be reshaped"
   ]
  },
  {
   "cell_type": "code",
   "execution_count": 6,
   "id": "d809b829-257f-4518-8afe-551d9459e163",
   "metadata": {},
   "outputs": [
    {
     "name": "stdin",
     "output_type": "stream",
     "text": [
      "\n",
      "🌡️  Enter a temperature in Celsius:  10\n",
      "🌡️  Enter the corresponding temperature in Fahrenheit:  10\n",
      "\n",
      "✅ Do you want to add this data?\n",
      "(1 = Yes / 0 = Re-enter / 2 = Exit):  2\n"
     ]
    },
    {
     "name": "stdout",
     "output_type": "stream",
     "text": [
      "\n",
      "👋 Program ended. Have a good day!\n"
     ]
    }
   ],
   "source": [
    "print('*' * 40)\n",
    "print('We suggest you to atleast input 3-4 training examples for better model training!')\n",
    "\n",
    "while True:\n",
    "    try:\n",
    "        # Step 1: Get Data\n",
    "        train_celsius = float(input(\"\\n🌡️  Enter a temperature in Celsius: \"))\n",
    "        train_fahreneit = float(input(\"🌡️  Enter the corresponding temperature in Fahrenheit: \"))\n",
    "\n",
    "        # Step 2: Confirm before appending\n",
    "        confirm = int(input(\n",
    "            \"\\n✅ Do you want to add this data?\\n(1 = Yes / 0 = Re-enter / 2 = Exit): \"\n",
    "        ))\n",
    "\n",
    "        if confirm == 1:\n",
    "            celsius_data.append(train_celsius)\n",
    "            fahreneit_data.append(train_fahreneit)\n",
    "        elif confirm == 0:\n",
    "            print(\"🔁 Let's re-enter the data.\")\n",
    "            continue\n",
    "        elif confirm == 2:\n",
    "            print(\"\\n👋 Program ended. Have a good day!\")\n",
    "            break\n",
    "        else:\n",
    "            print(\"⚠️ Invalid choice! Enter 0, 1 or 2.\")\n",
    "            continue\n",
    "\n",
    "        # Step 3: Ask if ready to train\n",
    "        choice = int(input(\n",
    "            \"\\n📊 Generate the Celsius → Fahrenheit formula now?\\n(1 = Yes / 0 = Add more data / 2 = Exit): \"\n",
    "        ))\n",
    "\n",
    "        if choice not in [0, 1, 2]:\n",
    "            print(\"⚠️ Invalid choice! Please enter 0, 1, or 2.\")\n",
    "            continue\n",
    "        elif choice == 0:\n",
    "            continue\n",
    "        elif choice == 2:\n",
    "            print(\"\\n👋 Program ended. Have a good day!\")\n",
    "            break\n",
    "\n",
    "        # Step 4: Train Model\n",
    "        print(\"\\n📋 Input values used for training:\")\n",
    "        for c, f in zip(celsius_data, fahreneit_data):\n",
    "            print(f\"   C: {c} → F: {f}\")\n",
    "\n",
    "        c_array, f_array = prepare_data(celsius_data, fahreneit_data)\n",
    "        b1, b0 = apply_line_fit(c_array, f_array)\n",
    "\n",
    "        print(f\"\\n📐 Formula learned: Fahrenheit = {b1:.2f} * Celsius + {b0:.2f}\")\n",
    "\n",
    "        # Step 5: Predict\n",
    "        choice2 = int(input(\"\\n🔮 Predict temperature in Fahrenheit? (1 = Yes / 0 = No): \"))\n",
    "\n",
    "        if choice2 == 1:\n",
    "            c = float(input(\"\\n🌡️  Enter temperature in Celsius to predict: \"))\n",
    "            predicted_f = make_prediction(c)\n",
    "            print(\"\\n🔍 Prediction Result:\")\n",
    "            print(f\"   Celsius:    {c:.2f} °C\")\n",
    "            print(f\"   Fahrenheit: {predicted_f:.2f} °F\\n\")\n",
    "\n",
    "    except ValueError as e:\n",
    "        print(\"❌ Input error:\", e)"
   ]
  }
 ],
 "metadata": {
  "kernelspec": {
   "display_name": "Python 3 (ipykernel)",
   "language": "python",
   "name": "python3"
  },
  "language_info": {
   "codemirror_mode": {
    "name": "ipython",
    "version": 3
   },
   "file_extension": ".py",
   "mimetype": "text/x-python",
   "name": "python",
   "nbconvert_exporter": "python",
   "pygments_lexer": "ipython3",
   "version": "3.12.3"
  },
  "widgets": {
   "application/vnd.jupyter.widget-state+json": {
    "state": {},
    "version_major": 2,
    "version_minor": 0
   }
  }
 },
 "nbformat": 4,
 "nbformat_minor": 5
}
