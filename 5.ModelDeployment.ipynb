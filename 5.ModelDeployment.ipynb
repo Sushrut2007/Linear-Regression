{
 "cells": [
  {
   "cell_type": "markdown",
   "id": "1cb0b2fd-e3e5-44bb-84ce-e6c754d9db01",
   "metadata": {},
   "source": [
    "## Goal : Predict the sales value based on multiple features"
   ]
  },
  {
   "cell_type": "markdown",
   "id": "0638552d-88a3-4e04-8dc3-95818ba36c34",
   "metadata": {},
   "source": [
    "# Note: Outputs are preserved for demonstration. To test, please run cells in order.\n"
   ]
  },
  {
   "cell_type": "code",
   "execution_count": null,
   "id": "db3b0f25-aa88-415e-b3b8-66caa95d1d8a",
   "metadata": {},
   "outputs": [],
   "source": [
    "import numpy as np\n",
    "import pandas as pd\n",
    "import matplotlib.pyplot as plt\n",
    "import seaborn as sns"
   ]
  },
  {
   "cell_type": "code",
   "execution_count": null,
   "id": "0a2cb46b-ea3f-465a-9b34-d7ad79d40ea0",
   "metadata": {},
   "outputs": [],
   "source": [
    "df = pd.read_csv('../ML And DS/08-Linear-Regression-Models/Advertising.csv')"
   ]
  },
  {
   "cell_type": "code",
   "execution_count": null,
   "id": "f8120d93-0d9e-4330-a41a-87d6ceff976b",
   "metadata": {},
   "outputs": [],
   "source": [
    "df.head()"
   ]
  },
  {
   "cell_type": "markdown",
   "id": "17cb5c60-e1f8-4dba-91c0-9f2f694f104e",
   "metadata": {},
   "source": [
    "- Let's check visually relationship between Every feature to sales!"
   ]
  },
  {
   "cell_type": "code",
   "execution_count": null,
   "id": "1b159a22-b62d-4668-8078-13b3a97ad291",
   "metadata": {},
   "outputs": [],
   "source": [
    "# or just do sns.parplot(df) for easeness\n",
    "fig, axes= plt.subplots(nrows = 1, ncols = 3, figsize = (16, 6))\n",
    "\n",
    "axes[0].plot(df['TV'], df['sales'], 'o')\n",
    "axes[0].set_ylabel('Sales')\n",
    "axes[0].set_xlabel('TV Spend')\n",
    "\n",
    "axes[1].plot(df['radio'], df['sales'], 'o')\n",
    "axes[1].set_ylabel('Sales')\n",
    "axes[1].set_xlabel('Radio Spend')\n",
    "\n",
    "axes[2].plot(df['newspaper'], df['sales'], 'o')\n",
    "axes[2].set_ylabel('Sales')\n",
    "axes[2].set_xlabel('Newspaper Spend')"
   ]
  },
  {
   "cell_type": "markdown",
   "id": "6e061858-af10-4706-831c-2eaa1af973f0",
   "metadata": {},
   "source": [
    "- Obtain only the X features, excluding sales"
   ]
  },
  {
   "cell_type": "code",
   "execution_count": null,
   "id": "5457b891-1ceb-4ef4-a7e5-ae070f513059",
   "metadata": {},
   "outputs": [],
   "source": [
    "X = df.drop('sales', axis=1)"
   ]
  },
  {
   "cell_type": "code",
   "execution_count": null,
   "id": "67f9a70c-0b7c-4195-8bee-974a8103fdfc",
   "metadata": {},
   "outputs": [],
   "source": [
    "X"
   ]
  },
  {
   "cell_type": "markdown",
   "id": "8b0b47cd-9f50-49c3-9e10-87efa515d4a6",
   "metadata": {},
   "source": [
    "- obtain only the label now (sales)"
   ]
  },
  {
   "cell_type": "code",
   "execution_count": null,
   "id": "940754be-f770-4871-b2c7-b28ac68423d0",
   "metadata": {},
   "outputs": [],
   "source": [
    "y = df['sales']"
   ]
  },
  {
   "cell_type": "markdown",
   "id": "6de9bd2b-86f6-49c2-97cf-50648243cc2c",
   "metadata": {},
   "source": [
    "- Now, let's do train-test-split "
   ]
  },
  {
   "cell_type": "code",
   "execution_count": null,
   "id": "8b415440-ec65-467a-bcef-ed76347a787a",
   "metadata": {},
   "outputs": [],
   "source": [
    "from sklearn.model_selection import train_test_split"
   ]
  },
  {
   "cell_type": "code",
   "execution_count": null,
   "id": "3e5493a9-1c0f-49e9-b42c-bcd2ddcfaa05",
   "metadata": {},
   "outputs": [],
   "source": [
    "#help(train_test_split)"
   ]
  },
  {
   "cell_type": "code",
   "execution_count": null,
   "id": "eb8d4c97-d198-4b79-9c6b-c752f32a0078",
   "metadata": {},
   "outputs": [],
   "source": [
    "# 70 : 30 split\n",
    "X_train, X_test, y_train, y_test = train_test_split(X, y, test_size = 0.3, random_state = 101) "
   ]
  },
  {
   "cell_type": "code",
   "execution_count": null,
   "id": "923d93c6-061e-4f24-a972-f2dc66653a59",
   "metadata": {},
   "outputs": [],
   "source": [
    "len(df)"
   ]
  },
  {
   "cell_type": "code",
   "execution_count": null,
   "id": "a53b1d13-ac7d-40c8-b5a1-f730ade97b3e",
   "metadata": {},
   "outputs": [],
   "source": [
    "X_train"
   ]
  },
  {
   "cell_type": "code",
   "execution_count": null,
   "id": "69e1ebd9-c45f-438c-b972-dd2135f00843",
   "metadata": {},
   "outputs": [],
   "source": [
    "y_train"
   ]
  },
  {
   "cell_type": "code",
   "execution_count": null,
   "id": "194c049f-ccde-453e-a860-32ff7cecc691",
   "metadata": {},
   "outputs": [],
   "source": [
    "len(X_test)"
   ]
  },
  {
   "cell_type": "markdown",
   "id": "99828238-e7a2-4bd5-a50f-7a4187b0fb14",
   "metadata": {},
   "source": [
    "- Let's train our linear model!\n"
   ]
  },
  {
   "cell_type": "code",
   "execution_count": null,
   "id": "fb556243-c785-4189-bfae-1204644b9b17",
   "metadata": {},
   "outputs": [],
   "source": [
    "from sklearn.linear_model import LinearRegression"
   ]
  },
  {
   "cell_type": "code",
   "execution_count": null,
   "id": "a0149fe2-efbc-4885-89a4-890653ae5358",
   "metadata": {},
   "outputs": [],
   "source": [
    "# help(LinearRegression)"
   ]
  },
  {
   "cell_type": "code",
   "execution_count": null,
   "id": "6cd6d7a2-627a-461a-9c5a-e817deaef09a",
   "metadata": {},
   "outputs": [],
   "source": [
    "model = LinearRegression() # creating a  base / raw model "
   ]
  },
  {
   "cell_type": "code",
   "execution_count": null,
   "id": "40fc7e93-8b69-458a-b79a-2537c7f2ec35",
   "metadata": {},
   "outputs": [],
   "source": [
    "type(model)"
   ]
  },
  {
   "cell_type": "code",
   "execution_count": null,
   "id": "21870dc6-8d19-421b-9995-15720e570389",
   "metadata": {},
   "outputs": [],
   "source": [
    "# feed the model , means to train it\n",
    "model.fit(X_train, y_train)"
   ]
  },
  {
   "cell_type": "code",
   "execution_count": null,
   "id": "9189cc4a-69be-418d-a152-2a5241b7bafc",
   "metadata": {},
   "outputs": [],
   "source": [
    "# feed the X_test features, so it can predict the values (y_test) :\n",
    "test_predictions = model.predict(X_test)\n",
    "test_predictions "
   ]
  },
  {
   "cell_type": "code",
   "execution_count": null,
   "id": "3f9bdeaf-9f5c-42a7-8617-e83b66d85308",
   "metadata": {},
   "outputs": [],
   "source": [
    "y_test # see? values r pretty decently close to actual vcalues, still there is some error , called as residual error!"
   ]
  },
  {
   "cell_type": "markdown",
   "id": "f276641a-63be-45fd-98ce-db77ae98590e",
   "metadata": {},
   "source": [
    "- Evaluating the performance matrics of our model by finding error between true y label vs predicted y label\n",
    "- we have Mean absolute error, mean squared error and root mean squared error"
   ]
  },
  {
   "cell_type": "code",
   "execution_count": null,
   "id": "f050f4ac-07e4-4b18-ba5f-77939d3e704a",
   "metadata": {},
   "outputs": [],
   "source": [
    "from sklearn.metrics import mean_absolute_error, mean_squared_error"
   ]
  },
  {
   "cell_type": "markdown",
   "id": "190d6434-d464-48e5-8fe9-5173e80666dc",
   "metadata": {},
   "source": [
    "\n",
    "\n",
    "### 📏 Error Metrics in Regression\n",
    "\n",
    "**Mean Absolute Error** (MAE) is the mean of the absolute value of the errors:\n",
    "\n",
    "$$\\frac 1n\\sum_{i=1}^n|y_i-\\hat{y}_i|$$\n",
    "\n",
    "**Mean Squared Error** (MSE) is the mean of the squared errors:\n",
    "\n",
    "$$\\frac 1n\\sum_{i=1}^n(y_i-\\hat{y}_i)^2$$\n",
    "\n",
    "**Root Mean Squared Error** (RMSE) is the square root of the mean of the squared errors:\n",
    "\n",
    "$$\\sqrt{\\frac 1n\\sum_{i=1}^n(y_i-\\hat{y}_i)^2}$$\n"
   ]
  },
  {
   "cell_type": "code",
   "execution_count": null,
   "id": "3e092246-1f75-4bca-b97d-a7ad0ed05f2a",
   "metadata": {},
   "outputs": [],
   "source": [
    "# this means that the data the model has never seen before, the y hat will be on average off by following amount!\n",
    "mean_absolute_error(y_test, test_predictions)"
   ]
  },
  {
   "cell_type": "code",
   "execution_count": null,
   "id": "fb2aa68c-5ea0-435d-aa05-a209cd842cac",
   "metadata": {},
   "outputs": [],
   "source": [
    "# RMSE\n",
    "np.sqrt(mean_squared_error(y_test, test_predictions))"
   ]
  },
  {
   "cell_type": "markdown",
   "id": "edb7633e-6255-4d28-986d-a5f86fa4c41f",
   "metadata": {},
   "source": [
    "- Now compare to the range of sales:\n",
    "\n",
    "If sales ranges from 0 to 30, then 2.3 is ~7.7% of the full range. That might be acceptable.\n",
    "\n",
    "- But if sales were between 0 and 5, then 2.3 is huge — almost 50%."
   ]
  },
  {
   "cell_type": "code",
   "execution_count": null,
   "id": "b8f848a3-f12f-49a2-98bd-59036e573516",
   "metadata": {},
   "outputs": [],
   "source": []
  },
  {
   "cell_type": "markdown",
   "id": "c83eb956-cc8d-422a-9768-fb1ff87930c8",
   "metadata": {},
   "source": [
    "--------------------"
   ]
  },
  {
   "cell_type": "markdown",
   "id": "5092169e-017c-4067-807e-3b8e98e19293",
   "metadata": {},
   "source": [
    "### Finding if our linear regression model was valid for this dataset or not\n"
   ]
  },
  {
   "cell_type": "code",
   "execution_count": null,
   "id": "e752845e-eceb-4dee-add5-95450335637d",
   "metadata": {},
   "outputs": [],
   "source": [
    "# find the difference between each data reseduals\n",
    "test_residuals = y_test - test_predictions"
   ]
  },
  {
   "cell_type": "code",
   "execution_count": null,
   "id": "c0ddc950-87e5-4ddd-8223-2a64f1b42057",
   "metadata": {},
   "outputs": [],
   "source": [
    "# test_residuals"
   ]
  },
  {
   "cell_type": "code",
   "execution_count": null,
   "id": "da198151-e465-4749-86df-142ae5fffec5",
   "metadata": {},
   "outputs": [],
   "source": [
    "# plotting these residuals vs the true y values\n",
    "sns.scatterplot(x = y_test, y = test_residuals)\n",
    "plt.axhline(y=0, color = 'r', ls = '--')"
   ]
  },
  {
   "cell_type": "code",
   "execution_count": null,
   "id": "e28be458-add7-4131-9422-da0d55a2b91c",
   "metadata": {},
   "outputs": [],
   "source": [
    "sns.displot(test_residuals, bins = 25, kde = True)"
   ]
  },
  {
   "cell_type": "markdown",
   "id": "d6f81060-575d-426f-9cd3-eb3ad8a69e07",
   "metadata": {},
   "source": [
    "### Conclusion"
   ]
  },
  {
   "cell_type": "markdown",
   "id": "c602ccef-bafe-405a-999a-10aa8d7d77c9",
   "metadata": {},
   "source": [
    "- Because the residual plot showed randomness and not a perticular pattern like a curve, etc, linear regression might be\n",
    "  a perfect choice for this dataset\n"
   ]
  },
  {
   "cell_type": "markdown",
   "id": "37e4ce6c-b2ed-4e7d-b941-b65078090a05",
   "metadata": {},
   "source": [
    "-------------------------"
   ]
  },
  {
   "cell_type": "markdown",
   "id": "414a45a3-d246-416f-8eeb-3654706a5156",
   "metadata": {},
   "source": [
    "### Model deployement for future use"
   ]
  },
  {
   "cell_type": "code",
   "execution_count": null,
   "id": "79057775-64e9-4065-b2c0-b00d84d883a1",
   "metadata": {},
   "outputs": [],
   "source": [
    "final_model = LinearRegression()"
   ]
  },
  {
   "cell_type": "code",
   "execution_count": null,
   "id": "29440cac-df94-460f-853a-5628d4d0a93d",
   "metadata": {},
   "outputs": [],
   "source": [
    "# full dataset, not just train sets\n",
    "final_model.fit(X, y)"
   ]
  },
  {
   "cell_type": "markdown",
   "id": "8f922736-c7c0-4fbe-b48d-f14c644794e4",
   "metadata": {},
   "source": [
    "- checking the coefficients of all the features"
   ]
  },
  {
   "cell_type": "markdown",
   "id": "b7d0cc38-936d-41de-8b0d-7f7f48a38f8f",
   "metadata": {},
   "source": [
    "final_model.coef_ # first one foe first X feature (X1) and so on"
   ]
  },
  {
   "cell_type": "markdown",
   "id": "057bbc6d-25ad-47bf-a9ab-231d56355f62",
   "metadata": {},
   "source": [
    "- Understanding above coefficients"
   ]
  },
  {
   "cell_type": "markdown",
   "id": "5855c7ad-5286-4a97-ad80-2578e813b657",
   "metadata": {},
   "source": [
    "- Recall from the first plot for every X feature vs the y feature, we could see that the newspaper was the most random.\n",
    "----\n",
    "- Newspaper was not as linear as other features, as not necessesary newspaper ads go higher as well as the sales.\n",
    "----\n",
    "- That last coeff tell just that but in a number, it is very close to 0, meaning that our model does barly care for predicting\n",
    "  the sales based on newspaper\n",
    "---\n",
    "- We can see that maybe the radio ad spent has the greatest impact on the rising sales!\n",
    "---\n",
    "- Quantitavly speaking, if we let radio and newspaper constant, and increase TV by 1, we would expect in average rise of sale in 0.0457..\n",
    "---\n",
    "- Similier with radio, BUT, as newspaper b1 is negative, if we increase only it by 1, we would get 0.0010.. sales decreased!"
   ]
  },
  {
   "cell_type": "markdown",
   "id": "b8903a0c-498b-4f87-9715-4e7d3e7f2915",
   "metadata": {},
   "source": [
    "-----------"
   ]
  },
  {
   "cell_type": "markdown",
   "id": "c3581e15-93e1-4606-9359-1a85223303f6",
   "metadata": {},
   "source": [
    "- Plotting full y vs y hat"
   ]
  },
  {
   "cell_type": "code",
   "execution_count": null,
   "id": "563a5daf-2e2a-4359-a895-4c2741faf84b",
   "metadata": {},
   "outputs": [],
   "source": [
    "y_hat = model.predict(X)"
   ]
  },
  {
   "cell_type": "code",
   "execution_count": null,
   "id": "6cc57f98-bea5-447b-aa78-f09c9ff26331",
   "metadata": {},
   "outputs": [],
   "source": [
    "fig,axes = plt.subplots(nrows=1,ncols=3,figsize=(16,6))\n",
    "\n",
    "axes[0].plot(df['TV'],df['sales'],'o')\n",
    "axes[0].plot(df['TV'],y_hat,'o',color='red')\n",
    "axes[0].set_ylabel(\"Sales\")\n",
    "axes[0].set_title(\"TV Spend\")\n",
    "\n",
    "axes[1].plot(df['radio'],df['sales'],'o')\n",
    "axes[1].plot(df['radio'],y_hat,'o',color='red')\n",
    "axes[1].set_title(\"Radio Spend\")\n",
    "axes[1].set_ylabel(\"Sales\")\n",
    "\n",
    "axes[2].plot(df['newspaper'],df['sales'],'o')\n",
    "axes[2].plot(df['radio'],y_hat,'o',color='red')\n",
    "axes[2].set_title(\"Newspaper Spend\");\n",
    "axes[2].set_ylabel(\"Sales\")\n",
    "plt.tight_layout();  # True points are blue, predicted ones are in red"
   ]
  },
  {
   "cell_type": "markdown",
   "id": "fcdc6a0e-78d3-43e9-a397-0144fc33c2a4",
   "metadata": {},
   "source": [
    "----------------- "
   ]
  },
  {
   "cell_type": "markdown",
   "id": "01fb21ec-1eed-4e01-9326-6f47333d3764",
   "metadata": {},
   "source": [
    "## Saving the model"
   ]
  },
  {
   "cell_type": "code",
   "execution_count": null,
   "id": "a0134aed-1809-4880-8bd5-f4e8f1db8407",
   "metadata": {},
   "outputs": [],
   "source": [
    "from joblib import dump, load"
   ]
  },
  {
   "cell_type": "code",
   "execution_count": null,
   "id": "bc4c8bc1-fafd-4f59-b24d-e1ef527a6905",
   "metadata": {},
   "outputs": [],
   "source": [
    "dump(final_model, 'final_sales_model.joblib') # saving the file"
   ]
  },
  {
   "cell_type": "code",
   "execution_count": null,
   "id": "aeb43587-f241-471f-9ea3-18a3dabea76a",
   "metadata": {},
   "outputs": [],
   "source": [
    "# loading that model / file\n",
    "loaded_model = load('final_sales_model.joblib')"
   ]
  },
  {
   "cell_type": "code",
   "execution_count": null,
   "id": "bf48d6a7-9237-4d43-b5a4-b7390ef5372a",
   "metadata": {},
   "outputs": [],
   "source": [
    "loaded_model.coef_"
   ]
  },
  {
   "cell_type": "code",
   "execution_count": null,
   "id": "6cae634a-0f65-4d3a-b13b-41dbca2e126b",
   "metadata": {},
   "outputs": [],
   "source": [
    "# Option 1: If each number represents a different feature for a single sample\n",
    "# This creates a 2D array with shape (1, 3): [[500, 100, 1000]]   \n",
    "data = np.array([230, 37, 900]).reshape(1, -1) # Reshape to 1 sample with 3 features (notice last value increases, sales decreases!)\n",
    "loaded_model.predict(data)"
   ]
  },
  {
   "cell_type": "code",
   "execution_count": null,
   "id": "d37ecaa8-34d7-4c3d-8230-875fee7e402f",
   "metadata": {},
   "outputs": [],
   "source": []
  }
 ],
 "metadata": {
  "kernelspec": {
   "display_name": "Python 3 (ipykernel)",
   "language": "python",
   "name": "python3"
  },
  "language_info": {
   "codemirror_mode": {
    "name": "ipython",
    "version": 3
   },
   "file_extension": ".py",
   "mimetype": "text/x-python",
   "name": "python",
   "nbconvert_exporter": "python",
   "pygments_lexer": "ipython3",
   "version": "3.12.3"
  },
  "widgets": {
   "application/vnd.jupyter.widget-state+json": {
    "state": {},
    "version_major": 2,
    "version_minor": 0
   }
  }
 },
 "nbformat": 4,
 "nbformat_minor": 5
}
